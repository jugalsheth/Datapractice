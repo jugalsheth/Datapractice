{
 "cells": [
  {
   "cell_type": "code",
   "execution_count": null,
   "metadata": {
    "id": "lBE44VaqCySE"
   },
   "outputs": [],
   "source": [
    "#!pip install pandapy"
   ]
  },
  {
   "cell_type": "code",
   "execution_count": 1,
   "metadata": {
    "id": "WB_u36V9gXqF"
   },
   "outputs": [],
   "source": [
    "import pandapy as pp\n",
    "import numpy as np"
   ]
  },
  {
   "cell_type": "markdown",
   "metadata": {
    "id": "fusmmvjIA7x9"
   },
   "source": [
    "Back to GitHub."
   ]
  },
  {
   "cell_type": "code",
   "execution_count": 18,
   "metadata": {},
   "outputs": [],
   "source": [
    "multiple_stocks = pp.read('https://github.com/firmai/random-assets-two/blob/master/numpy/multiple_stocks.csv?raw=true')\n",
    "closing = multiple_stocks[['Ticker','Date','Adj_Close']]"
   ]
  },
  {
   "cell_type": "code",
   "execution_count": 19,
   "metadata": {},
   "outputs": [
    {
     "data": {
      "text/plain": [
       "array([('AAPL', '2015-01-02', 100.45429993),\n",
       "       ('AAPL', '2015-01-05',  97.62433624),\n",
       "       ('AAPL', '2015-01-06',  97.63354492), ...,\n",
       "       ('KO', '2019-12-27',  55.34999847),\n",
       "       ('KO', '2019-12-30',  55.27000046),\n",
       "       ('KO', '2019-12-31',  55.34999847)],\n",
       "      dtype={'names':['Ticker','Date','Adj_Close'], 'formats':['<U4','<M8[D]','<f8'], 'offsets':[0,64,56], 'itemsize':72})"
      ]
     },
     "execution_count": 19,
     "metadata": {},
     "output_type": "execute_result"
    }
   ],
   "source": [
    "closing"
   ]
  },
  {
   "cell_type": "code",
   "execution_count": 20,
   "metadata": {},
   "outputs": [
    {
     "data": {
      "text/plain": [
       "array([[ 37.24206924, 100.45429993,  44.57522202, ...,  41.9791832 ,\n",
       "         81.51140594,  66.33999634],\n",
       "       [ 35.08446503,  97.62433624,  43.83200836, ...,  41.59314346,\n",
       "         80.89860535,  66.15000153],\n",
       "       [ 35.34244537,  97.63354492,  42.79874039, ...,  40.98268127,\n",
       "         80.28580475,  64.58000183],\n",
       "       ...,\n",
       "       [ 21.57999992, 289.79998779,  59.08000183, ..., 158.96000671,\n",
       "        137.53999329,  88.37000275],\n",
       "       [ 21.34000015, 291.51998901,  58.65999985, ..., 157.58999634,\n",
       "        136.80999756,  87.95999908],\n",
       "       [ 21.51000023, 293.6499939 ,  58.47999954, ..., 157.69999695,\n",
       "        136.66999817,  88.08999634]])"
      ]
     },
     "execution_count": 20,
     "metadata": {},
     "output_type": "execute_result"
    }
   ],
   "source": [
    "piv = pp.pivot(closing,\"Date\",\"Ticker\",\"Adj_Close\"); piv\n",
    "piv"
   ]
  },
  {
   "cell_type": "code",
   "execution_count": null,
   "metadata": {},
   "outputs": [],
   "source": []
  },
  {
   "cell_type": "markdown",
   "metadata": {
    "id": "GHkCMtHnNkvR"
   },
   "source": [
    "Read In Arrays"
   ]
  },
  {
   "cell_type": "code",
   "execution_count": null,
   "metadata": {},
   "outputs": [],
   "source": [
    "multiple_stocks"
   ]
  },
  {
   "cell_type": "code",
   "execution_count": 12,
   "metadata": {
    "id": "Wl93AG825RUq"
   },
   "outputs": [],
   "source": [
    "# First Example\n",
    "multiple_stocks = pp.read('https://github.com/firmai/random-assets-two/blob/master/numpy/multiple_stocks.csv?raw=true')\n",
    "closing = multiple_stocks[['Ticker','Date','Adj_Close']]\n",
    "piv = pp.pivot(closing,\"Date\",\"Ticker\",\"Adj_Close\"); piv\n",
    "closing = pp.to_struct(piv, name_list = [x for x in np.unique(multiple_stocks[\"Ticker\"])])\n",
    "\n",
    "# Second Example\n",
    "tsla = pp.read('https://github.com/firmai/random-assets-two/raw/master/numpy/tsla.csv')\n",
    "crm = pp.read('https://github.com/firmai/random-assets-two/raw/master/numpy/crm.csv')\n",
    "tsla_sub = tsla[[\"Date\",\"Adj_Close\",\"Volume\"]]\n",
    "crm_sub = crm[[\"Date\",\"Adj_Close\",\"Volume\"]]\n",
    "crm_adj = crm[['Date','Adj_Close']]"
   ]
  },
  {
   "cell_type": "code",
   "execution_count": 22,
   "metadata": {
    "colab": {
     "base_uri": "https://localhost:8080/",
     "height": 156
    },
    "id": "5BHLf2sTLJD1",
    "outputId": "4b18af17-67e7-4288-9031-5f2422e2c7dc"
   },
   "outputs": [
    {
     "data": {
      "text/plain": [
       "array([(37.24206924, 100.45429993, 44.57522202, 20.72605705, 130.59109497, 35.80251312,  41.9791832 ,  81.51140594, 66.33999634),\n",
       "       (35.08446503,  97.62433624, 43.83200836, 20.34561157, 128.53627014, 35.80251312,  41.59314346,  80.89860535, 66.15000153),\n",
       "       (35.34244537,  97.63354492, 42.79874039, 19.90727234, 125.76422119, 36.07437897,  40.98268127,  80.28580475, 64.58000183),\n",
       "       ...,\n",
       "       (21.57999992, 289.79998779, 59.08000183, 11.18000031, 135.27000427, 55.34999847, 158.96000671, 137.53999329, 88.37000275),\n",
       "       (21.34000015, 291.51998901, 58.65999985, 11.07999992, 132.80999756, 55.27000046, 157.58999634, 136.80999756, 87.95999908),\n",
       "       (21.51000023, 293.6499939 , 58.47999954, 11.15999985, 134.03999329, 55.34999847, 157.69999695, 136.66999817, 88.08999634)],\n",
       "      dtype=[('AA', '<f8'), ('AAPL', '<f8'), ('DAL', '<f8'), ('GE', '<f8'), ('IBM', '<f8'), ('KO', '<f8'), ('MSFT', '<f8'), ('PEP', '<f8'), ('UAL', '<f8')])"
      ]
     },
     "execution_count": 22,
     "metadata": {},
     "output_type": "execute_result"
    }
   ],
   "source": [
    "closing"
   ]
  },
  {
   "cell_type": "code",
   "execution_count": 23,
   "metadata": {
    "colab": {
     "base_uri": "https://localhost:8080/",
     "height": 121
    },
    "id": "aMy8d27wzhda",
    "outputId": "29189a78-a294-4fe1-9f27-d78527221f93"
   },
   "outputs": [
    {
     "data": {
      "text/plain": [
       "array([(37.24206924, 100.45429993, 44.57522202, 20.72605705, 130.59109497, 35.80251312, 41.9791832 , 81.51140594, 66.33999634),\n",
       "       (35.08446503,  97.62433624, 43.83200836, 20.34561157, 128.53627014, 35.80251312, 41.59314346, 80.89860535, 66.15000153),\n",
       "       (35.34244537,  97.63354492, 42.79874039, 19.90727234, 125.76422119, 36.07437897, 40.98268127, 80.28580475, 64.58000183),\n",
       "       (36.25707626,  99.00255585, 42.57216263, 19.91554451, 124.94229126, 36.52467346, 41.50337982, 82.63342285, 65.52999878),\n",
       "       (37.28897095, 102.80648041, 43.67792892, 20.15538216, 127.65791321, 36.966465  , 42.72432327, 84.13523865, 66.63999939)],\n",
       "      dtype=[('GAP', '<f8'), ('FAF', '<f8'), ('DAL', '<f8'), ('GE', '<f8'), ('IBM', '<f8'), ('KO', '<f8'), ('MSFT', '<f8'), ('PEP', '<f8'), ('UAL', '<f8')])"
      ]
     },
     "execution_count": 23,
     "metadata": {},
     "output_type": "execute_result"
    }
   ],
   "source": [
    "pp.rename(closing,[\"AA\",\"AAPL\"],[\"GAP\",\"FAF\"])[:5]"
   ]
  },
  {
   "cell_type": "code",
   "execution_count": 30,
   "metadata": {
    "colab": {
     "base_uri": "https://localhost:8080/",
     "height": 121
    },
    "id": "iO79MOYdKq2h",
    "outputId": "021cf58e-2f36-43c0-d535-3d29b3885c60"
   },
   "outputs": [
    {
     "data": {
      "text/plain": [
       "array([(37.24206924, 100.45429993, 44.57522202, 20.72605705, 130.59109497, 35.80251312, 41.9791832 , 81.51140594, 66.33999634),\n",
       "       (35.08446503,  97.62433624, 43.83200836, 20.34561157, 128.53627014, 35.80251312, 41.59314346, 80.89860535, 66.15000153),\n",
       "       (35.34244537,  97.63354492, 42.79874039, 19.90727234, 125.76422119, 36.07437897, 40.98268127, 80.28580475, 64.58000183),\n",
       "       (36.25707626,  99.00255585, 42.57216263, 19.91554451, 124.94229126, 36.52467346, 41.50337982, 82.63342285, 65.52999878),\n",
       "       (37.28897095, 102.80648041, 43.67792892, 20.15538216, 127.65791321, 36.966465  , 42.72432327, 84.13523865, 66.63999939)],\n",
       "      dtype=[('GALLY', '<f8'), ('AAPL', '<f8'), ('DAL', '<f8'), ('GE', '<f8'), ('IBM', '<f8'), ('KO', '<f8'), ('MSFT', '<f8'), ('PEP', '<f8'), ('UAL', '<f8')])"
      ]
     },
     "execution_count": 30,
     "metadata": {},
     "output_type": "execute_result"
    }
   ],
   "source": [
    "pp.rename(closing,\"AA\", \"GALLY\")[:5]"
   ]
  },
  {
   "cell_type": "code",
   "execution_count": 31,
   "metadata": {
    "id": "Ii2UrM4ruuS4"
   },
   "outputs": [],
   "source": [
    "def describe(array):\n",
    "  fill_array = np.zeros(shape=(7,len(array.dtype.names)))\n",
    "  col_keys = [\"observations\", \"minimum\", \"maximum\", \"mean\", \"variance\", \"skewness\", \"kurtosis\"]\n",
    "  en_dec = 0 \n",
    "  names = []\n",
    "  for en, arr in enumerate(array.dtype.names): #do not need the loop at this point, but looks prettier\n",
    "    \n",
    "    en = en - en_dec\n",
    "    try:\n",
    "      desc = stats.describe(array[arr])\n",
    "      names.append(arr)\n",
    "      \n",
    "    except:\n",
    "      fill_array = np.delete(fill_array,en,1)\n",
    "      en_dec = en_dec + 1\n",
    "      continue\n",
    "    col_values = [desc[0], desc[1][0], desc[1][1], desc[2], desc[3], desc[4], desc[5]]\n",
    "    # newrow = [1,2,3]\n",
    "    # A = numpy.vstack([A, newrow])\n",
    "    fill_array[:,en] = col_values\n",
    "  fill_array = np.round(fill_array,3)\n",
    "  table(fill_array.T,None, names,col_keys,\"Describe\")\n",
    "  return fill_array"
   ]
  },
  {
   "cell_type": "code",
   "execution_count": 32,
   "metadata": {
    "colab": {
     "base_uri": "https://localhost:8080/",
     "height": 233
    },
    "id": "qxsEmjN_3eAl",
    "outputId": "df55b78e-a2ab-4348-cf17-33a35ec847fc"
   },
   "outputs": [
    {
     "data": {
      "text/html": [
       "<table><tr><th>Describe<th>observations<th>minimum<th>maximum<th>mean<th>variance<th>skewness<th>kurtosis<tr><th>AA<td>1258.00<td>15.97<td>60.23<td>31.46<td>99.42<td>0.67<td>-0.58<tr><th>AAPL<td>1258.00<td>85.39<td>293.65<td>149.45<td>2119.86<td>0.66<td>-0.28<tr><th>DAL<td>1258.00<td>30.73<td>62.69<td>47.15<td>44.33<td>-0.01<td>-0.78<tr><th>GE<td>1258.00<td>6.42<td>28.67<td>18.85<td>48.45<td>-0.25<td>-1.54<tr><th>IBM<td>1258.00<td>99.83<td>161.17<td>133.35<td>116.28<td>-0.37<td>0.56<tr><th>KO<td>1258.00<td>32.81<td>55.35<td>41.67<td>28.86<td>0.80<td>-0.05<tr><th>MSFT<td>1258.00<td>36.27<td>158.96<td>78.31<td>1102.21<td>0.61<td>-0.82<tr><th>PEP<td>1258.00<td>78.46<td>139.30<td>102.86<td>229.01<td>0.63<td>-0.32<tr><th>UAL<td>1258.00<td>37.75<td>96.70<td>69.22<td>195.65<td>0.02<td>-1.04</table>"
      ],
      "text/plain": [
       "<IPython.core.display.HTML object>"
      ]
     },
     "metadata": {},
     "output_type": "display_data"
    }
   ],
   "source": [
    "described = pp.describe(closing)"
   ]
  },
  {
   "cell_type": "code",
   "execution_count": 33,
   "metadata": {
    "colab": {
     "base_uri": "https://localhost:8080/",
     "height": 121
    },
    "id": "nTengq0hG1To",
    "outputId": "7e17e8af-2683-457d-f3f4-4f95b23ef8fc"
   },
   "outputs": [
    {
     "data": {
      "text/plain": [
       "array([(44.57522202, 20.72605705, 35.80251312, 41.9791832 , 81.51140594, 66.33999634),\n",
       "       (43.83200836, 20.34561157, 35.80251312, 41.59314346, 80.89860535, 66.15000153),\n",
       "       (42.79874039, 19.90727234, 36.07437897, 40.98268127, 80.28580475, 64.58000183),\n",
       "       (42.57216263, 19.91554451, 36.52467346, 41.50337982, 82.63342285, 65.52999878),\n",
       "       (43.67792892, 20.15538216, 36.966465  , 42.72432327, 84.13523865, 66.63999939)],\n",
       "      dtype={'names':['DAL','GE','KO','MSFT','PEP','UAL'], 'formats':['<f8','<f8','<f8','<f8','<f8','<f8'], 'offsets':[16,24,40,48,56,64], 'itemsize':72})"
      ]
     },
     "execution_count": 33,
     "metadata": {},
     "output_type": "execute_result"
    }
   ],
   "source": [
    "removed = pp.drop(closing,[\"AA\",\"AAPL\",\"IBM\"]) ; removed[:5]"
   ]
  },
  {
   "cell_type": "code",
   "execution_count": 34,
   "metadata": {
    "colab": {
     "base_uri": "https://localhost:8080/",
     "height": 121
    },
    "id": "MWvjIRrdLskN",
    "outputId": "074401ea-ca58-4901-bb51-6a02e205041d"
   },
   "outputs": [
    {
     "data": {
      "text/plain": [
       "array([(37.24206924, 100.45429993, 44.57522202, 20.72605705, 130.59109497, 35.80251312, 41.9791832 , 81.51140594, 66.33999634, 130.59109497, 37.24206924),\n",
       "       (35.08446503,  97.62433624, 43.83200836, 20.34561157, 128.53627014, 35.80251312, 41.59314346, 80.89860535, 66.15000153, 128.53627014, 35.08446503),\n",
       "       (35.34244537,  97.63354492, 42.79874039, 19.90727234, 125.76422119, 36.07437897, 40.98268127, 80.28580475, 64.58000183, 125.76422119, 35.34244537),\n",
       "       (36.25707626,  99.00255585, 42.57216263, 19.91554451, 124.94229126, 36.52467346, 41.50337982, 82.63342285, 65.52999878, 124.94229126, 36.25707626),\n",
       "       (37.28897095, 102.80648041, 43.67792892, 20.15538216, 127.65791321, 36.966465  , 42.72432327, 84.13523865, 66.63999939, 127.65791321, 37.28897095)],\n",
       "      dtype=[('AA', '<f8'), ('AAPL', '<f8'), ('DAL', '<f8'), ('GE', '<f8'), ('IBM', '<f8'), ('KO', '<f8'), ('MSFT', '<f8'), ('PEP', '<f8'), ('UAL', '<f8'), ('GALLY', '<f8'), ('FAF', '<f8')])"
      ]
     },
     "execution_count": 34,
     "metadata": {},
     "output_type": "execute_result"
    }
   ],
   "source": [
    "added = pp.add(closing,[\"GALLY\",\"FAF\"],[closing[\"IBM\"],closing[\"AA\"]]); added[:5]  ## set two new columns with that two previous columnns"
   ]
  },
  {
   "cell_type": "code",
   "execution_count": 35,
   "metadata": {
    "colab": {
     "base_uri": "https://localhost:8080/",
     "height": 69
    },
    "id": "b0fNf00MMaPi",
    "outputId": "0cbedf6a-61be-47fc-865f-61d75a2507df"
   },
   "outputs": [
    {
     "data": {
      "text/plain": [
       "array([(44.57522202, 20.72605705), (43.83200836, 20.34561157),\n",
       "       (42.79874039, 19.90727234), (42.57216263, 19.91554451),\n",
       "       (43.67792892, 20.15538216)], dtype=[('DAL', '<f8'), ('GE', '<f8')])"
      ]
     },
     "execution_count": 35,
     "metadata": {},
     "output_type": "execute_result"
    }
   ],
   "source": [
    "concat_row = pp.concat(removed[[\"DAL\",\"GE\"]], added[[\"PEP\",\"UAL\"]], type=\"row\"); concat_row[:5]"
   ]
  },
  {
   "cell_type": "code",
   "execution_count": 36,
   "metadata": {
    "colab": {
     "base_uri": "https://localhost:8080/",
     "height": 121
    },
    "id": "O9rTqcurNAut",
    "outputId": "2fdd9cbe-d330-46d4-993b-3b94260387f1"
   },
   "outputs": [
    {
     "data": {
      "text/plain": [
       "array([(44.57522202, 20.72605705, 81.51140594, 66.33999634),\n",
       "       (43.83200836, 20.34561157, 80.89860535, 66.15000153),\n",
       "       (42.79874039, 19.90727234, 80.28580475, 64.58000183),\n",
       "       (42.57216263, 19.91554451, 82.63342285, 65.52999878),\n",
       "       (43.67792892, 20.15538216, 84.13523865, 66.63999939)],\n",
       "      dtype=[('DAL', '<f8'), ('GE', '<f8'), ('PEP', '<f8'), ('UAL', '<f8')])"
      ]
     },
     "execution_count": 36,
     "metadata": {},
     "output_type": "execute_result"
    }
   ],
   "source": [
    "concat_col = pp.concat(removed[[\"DAL\",\"GE\"]], added[[\"PEP\",\"UAL\"]], type=\"columns\"); concat_col[:5]"
   ]
  },
  {
   "cell_type": "code",
   "execution_count": 37,
   "metadata": {
    "colab": {
     "base_uri": "https://localhost:8080/",
     "height": 225
    },
    "id": "bckoeTtHNOBP",
    "outputId": "51241842-bb0f-44f9-f4fa-9aa83a790944"
   },
   "outputs": [
    {
     "data": {
      "text/plain": [
       "array([[(44.57522201538086, 20.726057052612305),\n",
       "        (43.832008361816406, 20.345611572265625),\n",
       "        (42.79874038696289, 19.907272338867188), ...,\n",
       "        (59.08000183105469, 11.180000305175781),\n",
       "        (58.65999984741211, 11.079999923706055),\n",
       "        (58.47999954223633, 11.15999984741211)],\n",
       "       [(81.51140594482422, 66.33999633789062),\n",
       "        (80.89860534667969, 66.1500015258789),\n",
       "        (80.28580474853516, 64.58000183105469), ...,\n",
       "        (137.5399932861328, 88.37000274658203),\n",
       "        (136.80999755859375, 87.95999908447266),\n",
       "        (136.6699981689453, 88.08999633789062)]], dtype=object)"
      ]
     },
     "execution_count": 37,
     "metadata": {},
     "output_type": "execute_result"
    }
   ],
   "source": [
    "concat_array = pp.concat(removed[[\"DAL\",\"GE\"]], added[[\"PEP\",\"UAL\"]], type=\"array\"); concat_array[:5]"
   ]
  },
  {
   "cell_type": "code",
   "execution_count": 38,
   "metadata": {
    "colab": {
     "base_uri": "https://localhost:8080/",
     "height": 69
    },
    "id": "7h5JEqD2NZ6Z",
    "outputId": "fde43c0c-2696-4dd2-d5dd-27c002fe449a"
   },
   "outputs": [
    {
     "data": {
      "text/plain": [
       "array([(44.57522202, 20.72605705), (43.83200836, 20.34561157),\n",
       "       (42.79874039, 19.90727234), (42.57216263, 19.91554451),\n",
       "       (43.67792892, 20.15538216)], dtype=[('DAL', '<f8'), ('GE', '<f8')])"
      ]
     },
     "execution_count": 38,
     "metadata": {},
     "output_type": "execute_result"
    }
   ],
   "source": [
    "concat_melt = pp.concat(removed[[\"DAL\",\"GE\"]], added[[\"PEP\",\"UAL\"]], type=\"melt\"); concat_melt[:5]"
   ]
  },
  {
   "cell_type": "code",
   "execution_count": 39,
   "metadata": {
    "colab": {
     "base_uri": "https://localhost:8080/",
     "height": 121
    },
    "id": "ce2mGmb0Njqi",
    "outputId": "08a2555d-9803-493e-a066-345af3770426"
   },
   "outputs": [
    {
     "data": {
      "text/plain": [
       "array([('2019-01-02', 310.11999512, 135.55000305, 11658600),\n",
       "       ('2019-01-03', 300.35998535, 130.3999939 ,  6965200),\n",
       "       ('2019-01-04', 317.69000244, 137.96000671,  7394100),\n",
       "       ('2019-01-07', 334.95999146, 142.22000122,  7551200),\n",
       "       ('2019-01-08', 335.3500061 , 145.72000122,  7008500)],\n",
       "      dtype=[('Date', '<M8[D]'), ('Adj_Close_TSLA', '<f8'), ('Adj_Close_CRM', '<f8'), ('Volume', '<i4')])"
      ]
     },
     "execution_count": 39,
     "metadata": {},
     "output_type": "execute_result"
    }
   ],
   "source": [
    "merged = pp.merge(tsla_sub, crm_adj, left_on=\"Date\", right_on=\"Date\",how=\"inner\",left_postscript=\"_TSLA\",right_postscript=\"_CRM\"); merged[:5]"
   ]
  },
  {
   "cell_type": "code",
   "execution_count": 40,
   "metadata": {
    "id": "FBi4c-p7PVOn"
   },
   "outputs": [],
   "source": [
    "## More work to done on replace (structured)\n",
    "## replace(merged,original=317.69000244, replacement=np.nan)[:5]"
   ]
  },
  {
   "cell_type": "code",
   "execution_count": 41,
   "metadata": {
    "colab": {
     "base_uri": "https://localhost:8080/",
     "height": 147
    },
    "id": "tYZ4skSQPmcY",
    "outputId": "fd5b0c12-97ab-4a24-d0ed-591091c4c063"
   },
   "outputs": [
    {
     "data": {
      "text/html": [
       "<table><tr><th><th>Date<th>Adj_Close_TSLA<th>Adj_Close_CRM<th>Volume<tr><th>0<td>2019-01-02<td>310.120<td>135.550<td>11658600<tr><th>1<td>2019-01-03<td>300.360<td>130.400<td>6965200<tr><th>2<td>2019-01-04<td>317.690<td>137.960<td>7394100<tr><th>3<td>2019-01-07<td>334.960<td>142.220<td>7551200<tr><th>4<td>2019-01-08<td>335.350<td>145.720<td>7008500</table>"
      ],
      "text/plain": [
       "<IPython.core.display.HTML object>"
      ]
     },
     "metadata": {},
     "output_type": "display_data"
    }
   ],
   "source": [
    "pp.table(merged[:5])"
   ]
  },
  {
   "cell_type": "code",
   "execution_count": 42,
   "metadata": {
    "id": "I_4aEBdPV0G_"
   },
   "outputs": [],
   "source": [
    "### This is the new function that you should include above\n",
    "### You can add the same peculuarities to remove"
   ]
  },
  {
   "cell_type": "code",
   "execution_count": 43,
   "metadata": {
    "colab": {
     "base_uri": "https://localhost:8080/",
     "height": 208
    },
    "id": "WMSCYyecRHJB",
    "outputId": "2d8e6b68-407c-4260-cc75-2d316d57b2af"
   },
   "outputs": [
    {
     "data": {
      "text/plain": [
       "array([(315.13000488, 298.79998779, 306.1000061 , 310.11999512, 11658600, 310.11999512, '2019-01-02', 'TSLA'),\n",
       "       (309.3999939 , 297.38000488, 307.        , 300.35998535,  6965200, 300.35998535, '2019-01-03', 'TSLA'),\n",
       "       (318.        , 302.73001099, 306.        , 317.69000244,  7394100, 317.69000244, '2019-01-04', 'TSLA'),\n",
       "       (336.73999023, 317.75      , 321.72000122, 334.95999146,  7551200, 334.95999146, '2019-01-07', 'TSLA'),\n",
       "       (344.01000977, 327.01998901, 341.95999146, 335.3500061 ,  7008500, 335.3500061 , '2019-01-08', 'TSLA'),\n",
       "       (136.83000183, 133.05000305, 133.3999939 , 135.55000305,  4783900, 135.55000305, '2019-01-02', 'CRM'),\n",
       "       (134.77999878, 130.1000061 , 133.47999573, 130.3999939 ,  6365700, 130.3999939 , '2019-01-03', 'CRM'),\n",
       "       (139.32000732, 132.22000122, 133.5       , 137.96000671,  6650600, 137.96000671, '2019-01-04', 'CRM'),\n",
       "       (143.38999939, 138.78999329, 141.02000427, 142.22000122,  9064800, 142.22000122, '2019-01-07', 'CRM'),\n",
       "       (146.46000671, 142.88999939, 144.72999573, 145.72000122,  9057300, 145.72000122, '2019-01-08', 'CRM')],\n",
       "      dtype=[('High', '<f8'), ('Low', '<f8'), ('Open', '<f8'), ('Close', '<f8'), ('Volume', '<i4'), ('Adj_Close', '<f8'), ('Date', '<M8[D]'), ('Ticker', '<U10')])"
      ]
     },
     "execution_count": 43,
     "metadata": {},
     "output_type": "execute_result"
    }
   ],
   "source": [
    "tsla = pp.add(tsla,[\"Ticker\"], \"TSLA\", \"U10\")\n",
    "crm = pp.add(crm,[\"Ticker\"], \"CRM\", \"U10\")\n",
    "combine = pp.concat(tsla[0:5], crm[0:5], type=\"row\"); combine"
   ]
  },
  {
   "cell_type": "code",
   "execution_count": 44,
   "metadata": {
    "colab": {
     "base_uri": "https://localhost:8080/",
     "height": 208
    },
    "id": "njJiQ6PDe_O-",
    "outputId": "9f3e4cb9-e647-42c6-afd6-57eb620c8573"
   },
   "outputs": [
    {
     "data": {
      "text/plain": [
       "array([(310.11999512, 11658600, 310.11999512, '2019-01-02', 'TSLA'),\n",
       "       (300.35998535,  6965200, 300.35998535, '2019-01-03', 'TSLA'),\n",
       "       (317.69000244,  7394100, 317.69000244, '2019-01-04', 'TSLA'),\n",
       "       (334.95999146,  7551200, 334.95999146, '2019-01-07', 'TSLA'),\n",
       "       (335.3500061 ,  7008500, 335.3500061 , '2019-01-08', 'TSLA'),\n",
       "       (135.55000305,  4783900, 135.55000305, '2019-01-02', 'CRM'),\n",
       "       (130.3999939 ,  6365700, 130.3999939 , '2019-01-03', 'CRM'),\n",
       "       (137.96000671,  6650600, 137.96000671, '2019-01-04', 'CRM'),\n",
       "       (142.22000122,  9064800, 142.22000122, '2019-01-07', 'CRM'),\n",
       "       (145.72000122,  9057300, 145.72000122, '2019-01-08', 'CRM')],\n",
       "      dtype={'names':['Close','Volume','Adj_Close','Date','Ticker'], 'formats':['<f8','<i4','<f8','<M8[D]','<U10'], 'offsets':[24,32,36,44,52], 'itemsize':92})"
      ]
     },
     "execution_count": 44,
     "metadata": {},
     "output_type": "execute_result"
    }
   ],
   "source": [
    "dropped = pp.drop(combine,[\"High\",\"Low\",\"Open\"]); dropped[:10]"
   ]
  },
  {
   "cell_type": "code",
   "execution_count": 45,
   "metadata": {
    "colab": {
     "base_uri": "https://localhost:8080/",
     "height": 147
    },
    "id": "6QDkMt9rQfsW",
    "outputId": "6958fd79-cc18-4439-b51d-d25f7ea31de1"
   },
   "outputs": [
    {
     "data": {
      "text/html": [
       "<table><tr><th>Adj_Close<th>CRM<th>TSLA<tr><th>2019-01-02<td>135.55<td>310.12<tr><th>2019-01-03<td>130.40<td>300.36<tr><th>2019-01-04<td>137.96<td>317.69<tr><th>2019-01-07<td>142.22<td>334.96<tr><th>2019-01-08<td>145.72<td>335.35</table>"
      ],
      "text/plain": [
       "<IPython.core.display.HTML object>"
      ]
     },
     "metadata": {},
     "output_type": "display_data"
    }
   ],
   "source": [
    "piv = pp.pivot(dropped,\"Date\",\"Ticker\",\"Adj_Close\",display=True)"
   ]
  },
  {
   "cell_type": "code",
   "execution_count": 46,
   "metadata": {
    "id": "s770V2ZYQfkz"
   },
   "outputs": [],
   "source": [
    "tsla_extended = pp.add(tsla,\"Month\",tsla[\"Date\"],'datetime64[M]')\n",
    "tsla_extended = pp.add(tsla_extended,\"Year\",tsla_extended[\"Date\"],'datetime64[Y]')\n"
   ]
  },
  {
   "cell_type": "code",
   "execution_count": 47,
   "metadata": {
    "colab": {
     "base_uri": "https://localhost:8080/",
     "height": 121
    },
    "id": "ObOwkXZsvTOT",
    "outputId": "fb170359-6efc-4b07-a1c7-a7b3f834d5fc"
   },
   "outputs": [
    {
     "data": {
      "text/plain": [
       "array([(315.13000488, 298.79998779, 306.1000061 , 310.11999512, 11658600, 310.11999512, 'TSLA', '2019'),\n",
       "       (309.3999939 , 297.38000488, 307.        , 300.35998535,  6965200, 300.35998535, 'TSLA', '2019'),\n",
       "       (318.        , 302.73001099, 306.        , 317.69000244,  7394100, 317.69000244, 'TSLA', '2019'),\n",
       "       (336.73999023, 317.75      , 321.72000122, 334.95999146,  7551200, 334.95999146, 'TSLA', '2019'),\n",
       "       (344.01000977, 327.01998901, 341.95999146, 335.3500061 ,  7008500, 335.3500061 , 'TSLA', '2019')],\n",
       "      dtype=[('High', '<f8'), ('Low', '<f8'), ('Open', '<f8'), ('Close', '<f8'), ('Volume', '<i4'), ('Adj_Close', '<f8'), ('Ticker', '<U10'), ('Date', '<U10')])"
      ]
     },
     "execution_count": 47,
     "metadata": {},
     "output_type": "execute_result"
    }
   ],
   "source": [
    "## faster method elsewhere\n",
    "year_frame = pp.update(tsla,\"Date\", [dt.year for dt in tsla[\"Date\"].astype(object)],types=\"|U10\"); year_frame[:5]"
   ]
  },
  {
   "cell_type": "code",
   "execution_count": 48,
   "metadata": {
    "colab": {
     "base_uri": "https://localhost:8080/",
     "height": 297
    },
    "id": "JCI3xlCgQfLB",
    "outputId": "9ddeffa9-cdc8-435b-a33a-8f51188988b2"
   },
   "outputs": [
    {
     "data": {
      "text/html": [
       "<table><tr><th><th>Ticker<th>Month<th>Year<th>Adj_Close_mean<th>Adj_Close_std<th>Adj_Close_min<th>Adj_Close_max<th>Close_mean<th>Close_std<th>Close_min<th>Close_max<tr><th>0<td>TSLA<td>2019-01-01<td>2019-01-01<td>318.494<td>21.098<td>287.590<td>347.310<td>318.494<td>21.098<td>287.590<td>347.310<tr><th>1<td>TSLA<td>2019-02-01<td>2019-01-01<td>307.728<td>8.053<td>291.230<td>321.350<td>307.728<td>8.053<td>291.230<td>321.350<tr><th>2<td>TSLA<td>2019-03-01<td>2019-01-01<td>277.757<td>8.925<td>260.420<td>294.790<td>277.757<td>8.925<td>260.420<td>294.790<tr><th>3<td>TSLA<td>2019-04-01<td>2019-01-01<td>266.656<td>14.985<td>235.140<td>291.810<td>266.656<td>14.985<td>235.140<td>291.810<tr><th>4<td>TSLA<td>2019-05-01<td>2019-01-01<td>219.715<td>24.040<td>185.160<td>255.340<td>219.715<td>24.040<td>185.160<td>255.340<tr><th>5<td>TSLA<td>2019-06-01<td>2019-01-01<td>213.717<td>12.125<td>178.970<td>226.430<td>213.717<td>12.125<td>178.970<td>226.430<tr><th>6<td>TSLA<td>2019-07-01<td>2019-01-01<td>242.382<td>12.077<td>224.550<td>264.880<td>242.382<td>12.077<td>224.550<td>264.880<tr><th>7<td>TSLA<td>2019-08-01<td>2019-01-01<td>225.103<td>7.831<td>211.400<td>238.300<td>225.103<td>7.831<td>211.400<td>238.300<tr><th>8<td>TSLA<td>2019-09-01<td>2019-01-01<td>237.261<td>8.436<td>220.680<td>247.100<td>237.261<td>8.436<td>220.680<td>247.100<tr><th>9<td>TSLA<td>2019-10-01<td>2019-01-01<td>266.355<td>31.463<td>231.430<td>328.130<td>266.355<td>31.463<td>231.430<td>328.130<tr><th>10<td>TSLA<td>2019-11-01<td>2019-01-01<td>338.300<td>13.226<td>313.310<td>359.520<td>338.300<td>13.226<td>313.310<td>359.520<tr><th>11<td>TSLA<td>2019-12-01<td>2019-01-01<td>377.695<td>36.183<td>330.370<td>430.940<td>377.695<td>36.183<td>330.370<td>430.940</table>"
      ],
      "text/plain": [
       "<IPython.core.display.HTML object>"
      ]
     },
     "metadata": {},
     "output_type": "display_data"
    }
   ],
   "source": [
    "grouped = pp.group(tsla_extended, ['Ticker','Month','Year'],['mean', 'std', 'min', 'max'], ['Adj_Close','Close'], display=True)\n"
   ]
  },
  {
   "cell_type": "code",
   "execution_count": 49,
   "metadata": {
    "colab": {
     "base_uri": "https://localhost:8080/",
     "height": 206
    },
    "id": "NCTyyKU3kc3r",
    "outputId": "0d99b365-307e-4fc2-9c4b-e0de75464b8c"
   },
   "outputs": [
    {
     "data": {
      "text/html": [
       "<div>\n",
       "<style scoped>\n",
       "    .dataframe tbody tr th:only-of-type {\n",
       "        vertical-align: middle;\n",
       "    }\n",
       "\n",
       "    .dataframe tbody tr th {\n",
       "        vertical-align: top;\n",
       "    }\n",
       "\n",
       "    .dataframe thead th {\n",
       "        text-align: right;\n",
       "    }\n",
       "</style>\n",
       "<table border=\"1\" class=\"dataframe\">\n",
       "  <thead>\n",
       "    <tr style=\"text-align: right;\">\n",
       "      <th></th>\n",
       "      <th>Ticker</th>\n",
       "      <th>Month</th>\n",
       "      <th>Year</th>\n",
       "      <th>Adj_Close_mean</th>\n",
       "      <th>Adj_Close_std</th>\n",
       "      <th>Adj_Close_min</th>\n",
       "      <th>Adj_Close_max</th>\n",
       "      <th>Close_mean</th>\n",
       "      <th>Close_std</th>\n",
       "      <th>Close_min</th>\n",
       "      <th>Close_max</th>\n",
       "    </tr>\n",
       "  </thead>\n",
       "  <tbody>\n",
       "    <tr>\n",
       "      <th>0</th>\n",
       "      <td>TSLA</td>\n",
       "      <td>2019-01-01</td>\n",
       "      <td>2019-01-01</td>\n",
       "      <td>318.494284</td>\n",
       "      <td>21.098362</td>\n",
       "      <td>287.589996</td>\n",
       "      <td>347.309998</td>\n",
       "      <td>318.494284</td>\n",
       "      <td>21.098362</td>\n",
       "      <td>287.589996</td>\n",
       "      <td>347.309998</td>\n",
       "    </tr>\n",
       "    <tr>\n",
       "      <th>1</th>\n",
       "      <td>TSLA</td>\n",
       "      <td>2019-02-01</td>\n",
       "      <td>2019-01-01</td>\n",
       "      <td>307.728421</td>\n",
       "      <td>8.052522</td>\n",
       "      <td>291.230011</td>\n",
       "      <td>321.350006</td>\n",
       "      <td>307.728421</td>\n",
       "      <td>8.052522</td>\n",
       "      <td>291.230011</td>\n",
       "      <td>321.350006</td>\n",
       "    </tr>\n",
       "    <tr>\n",
       "      <th>2</th>\n",
       "      <td>TSLA</td>\n",
       "      <td>2019-03-01</td>\n",
       "      <td>2019-01-01</td>\n",
       "      <td>277.757140</td>\n",
       "      <td>8.924873</td>\n",
       "      <td>260.420013</td>\n",
       "      <td>294.790009</td>\n",
       "      <td>277.757140</td>\n",
       "      <td>8.924873</td>\n",
       "      <td>260.420013</td>\n",
       "      <td>294.790009</td>\n",
       "    </tr>\n",
       "    <tr>\n",
       "      <th>3</th>\n",
       "      <td>TSLA</td>\n",
       "      <td>2019-04-01</td>\n",
       "      <td>2019-01-01</td>\n",
       "      <td>266.655716</td>\n",
       "      <td>14.984572</td>\n",
       "      <td>235.139999</td>\n",
       "      <td>291.809998</td>\n",
       "      <td>266.655716</td>\n",
       "      <td>14.984572</td>\n",
       "      <td>235.139999</td>\n",
       "      <td>291.809998</td>\n",
       "    </tr>\n",
       "    <tr>\n",
       "      <th>4</th>\n",
       "      <td>TSLA</td>\n",
       "      <td>2019-05-01</td>\n",
       "      <td>2019-01-01</td>\n",
       "      <td>219.715454</td>\n",
       "      <td>24.039647</td>\n",
       "      <td>185.160004</td>\n",
       "      <td>255.339996</td>\n",
       "      <td>219.715454</td>\n",
       "      <td>24.039647</td>\n",
       "      <td>185.160004</td>\n",
       "      <td>255.339996</td>\n",
       "    </tr>\n",
       "  </tbody>\n",
       "</table>\n",
       "</div>"
      ],
      "text/plain": [
       "  Ticker      Month       Year  Adj_Close_mean  Adj_Close_std  Adj_Close_min  \\\n",
       "0   TSLA 2019-01-01 2019-01-01      318.494284      21.098362     287.589996   \n",
       "1   TSLA 2019-02-01 2019-01-01      307.728421       8.052522     291.230011   \n",
       "2   TSLA 2019-03-01 2019-01-01      277.757140       8.924873     260.420013   \n",
       "3   TSLA 2019-04-01 2019-01-01      266.655716      14.984572     235.139999   \n",
       "4   TSLA 2019-05-01 2019-01-01      219.715454      24.039647     185.160004   \n",
       "\n",
       "   Adj_Close_max  Close_mean  Close_std   Close_min   Close_max  \n",
       "0     347.309998  318.494284  21.098362  287.589996  347.309998  \n",
       "1     321.350006  307.728421   8.052522  291.230011  321.350006  \n",
       "2     294.790009  277.757140   8.924873  260.420013  294.790009  \n",
       "3     291.809998  266.655716  14.984572  235.139999  291.809998  \n",
       "4     255.339996  219.715454  24.039647  185.160004  255.339996  "
      ]
     },
     "execution_count": 49,
     "metadata": {},
     "output_type": "execute_result"
    }
   ],
   "source": [
    "grouped_frame = pp.pandas(grouped); grouped_frame.head()"
   ]
  },
  {
   "cell_type": "code",
   "execution_count": 50,
   "metadata": {
    "colab": {
     "base_uri": "https://localhost:8080/",
     "height": 141
    },
    "id": "J5SGnTYFkmnO",
    "outputId": "5a06e81b-e244-43d4-9770-2a358e4a6a42"
   },
   "outputs": [
    {
     "data": {
      "text/plain": [
       "rec.array([('TSLA', '2019-01-01T00:00:00.000000000', '2019-01-01T00:00:00.000000000', 318.49428449, 21.09836186, 287.58999634, 347.30999756, 318.49428449, 21.09836186, 287.58999634, 347.30999756),\n",
       "           ('TSLA', '2019-02-01T00:00:00.000000000', '2019-01-01T00:00:00.000000000', 307.72842086,  8.05252198, 291.23001099, 321.3500061 , 307.72842086,  8.05252198, 291.23001099, 321.3500061 ),\n",
       "           ('TSLA', '2019-03-01T00:00:00.000000000', '2019-01-01T00:00:00.000000000', 277.75713966,  8.92487345, 260.42001343, 294.79000854, 277.75713966,  8.92487345, 260.42001343, 294.79000854),\n",
       "           ('TSLA', '2019-04-01T00:00:00.000000000', '2019-01-01T00:00:00.000000000', 266.65571594, 14.98457194, 235.13999939, 291.80999756, 266.65571594, 14.98457194, 235.13999939, 291.80999756),\n",
       "           ('TSLA', '2019-05-01T00:00:00.000000000', '2019-01-01T00:00:00.000000000', 219.7154541 , 24.03964724, 185.16000366, 255.33999634, 219.7154541 , 24.03964724, 185.16000366, 255.33999634)],\n",
       "          dtype=[('Ticker', 'O'), ('Month', '<M8[ns]'), ('Year', '<M8[ns]'), ('Adj_Close_mean', '<f8'), ('Adj_Close_std', '<f8'), ('Adj_Close_min', '<f8'), ('Adj_Close_max', '<f8'), ('Close_mean', '<f8'), ('Close_std', '<f8'), ('Close_min', '<f8'), ('Close_max', '<f8')])"
      ]
     },
     "execution_count": 50,
     "metadata": {},
     "output_type": "execute_result"
    }
   ],
   "source": [
    "struct = pp.structured(grouped_frame); struct[:5]"
   ]
  },
  {
   "cell_type": "code",
   "execution_count": 51,
   "metadata": {
    "colab": {
     "base_uri": "https://localhost:8080/",
     "height": 52
    },
    "id": "PyuvDse3QBZ0",
    "outputId": "2487c464-0a61-4e1a-fb54-b72cf8c8d224"
   },
   "outputs": [
    {
     "data": {
      "text/plain": [
       "array([         nan, 310.11999512, 300.35998535, 317.69000244,\n",
       "       334.95999146])"
      ]
     },
     "execution_count": 51,
     "metadata": {},
     "output_type": "execute_result"
    }
   ],
   "source": [
    "pp.shift(merged[\"Adj_Close_TSLA\"],1)[:5]"
   ]
  },
  {
   "cell_type": "code",
   "execution_count": 52,
   "metadata": {
    "colab": {
     "base_uri": "https://localhost:8080/",
     "height": 141
    },
    "id": "Gcv9ftnwlGNl",
    "outputId": "95cace51-ea1a-4692-b8de-824ddc3bb82a"
   },
   "outputs": [
    {
     "data": {
      "text/plain": [
       "array([(315.13000488, 298.79998779, 306.1000061 , 310.11999512, 11658600, 310.11999512, '2019-01-02', 'TSLA', '2019-01', '2019',          nan,          nan,          nan,          nan, nan),\n",
       "       (309.3999939 , 297.38000488, 307.        , 300.35998535,  6965200, 300.35998535, '2019-01-03', 'TSLA', '2019-01', '2019', 310.11999512,          nan,          nan,          nan, nan),\n",
       "       (318.        , 302.73001099, 306.        , 317.69000244,  7394100, 317.69000244, '2019-01-04', 'TSLA', '2019-01', '2019', 300.35998535, 310.11999512,          nan,          nan, nan),\n",
       "       (336.73999023, 317.75      , 321.72000122, 334.95999146,  7551200, 334.95999146, '2019-01-07', 'TSLA', '2019-01', '2019', 317.69000244, 300.35998535, 310.11999512,          nan, nan),\n",
       "       (344.01000977, 327.01998901, 341.95999146, 335.3500061 ,  7008500, 335.3500061 , '2019-01-08', 'TSLA', '2019-01', '2019', 334.95999146, 317.69000244, 300.35998535, 310.11999512, nan)],\n",
       "      dtype=[('High', '<f8'), ('Low', '<f8'), ('Open', '<f8'), ('Close', '<f8'), ('Volume', '<i4'), ('Adj_Close', '<f8'), ('Date', '<M8[D]'), ('Ticker', '<U10'), ('Month', '<M8[M]'), ('Year', '<M8[Y]'), ('Adj_Close_lag_1', '<f8'), ('Adj_Close_lag_2', '<f8'), ('Adj_Close_lag_3', '<f8'), ('Adj_Close_lag_4', '<f8'), ('Adj_Close_lag_5', '<f8')])"
      ]
     },
     "execution_count": 52,
     "metadata": {},
     "output_type": "execute_result"
    }
   ],
   "source": [
    "tsla_lagged = pp.lags(tsla_extended, \"Adj_Close\", 5); tsla_lagged[:5]"
   ]
  },
  {
   "cell_type": "code",
   "execution_count": 53,
   "metadata": {
    "colab": {
     "base_uri": "https://localhost:8080/",
     "height": 233
    },
    "id": "QhOLzr8Dwv_y",
    "outputId": "837346a5-b893-4a2b-9865-5f3c68635ddc"
   },
   "outputs": [
    {
     "data": {
      "text/html": [
       "<table><tr><th>Correlation<th>AA<th>AAPL<th>DAL<th>GE<th>IBM<th>KO<th>MSFT<th>PEP<th>UAL<tr><th>AA<td>1.00<td>0.21<td>0.24<td>-0.17<td>0.39<td>-0.09<td>0.05<td>-0.04<td>0.12<tr><th>AAPL<td>0.21<td>1.00<td>0.86<td>-0.83<td>0.22<td>0.85<td>0.94<td>0.85<td>0.82<tr><th>DAL<td>0.24<td>0.86<td>1.00<td>-0.78<td>0.14<td>0.79<td>0.86<td>0.78<td>0.86<tr><th>GE<td>-0.17<td>-0.83<td>-0.78<td>1.00<td>0.06<td>-0.76<td>-0.86<td>-0.69<td>-0.76<tr><th>IBM<td>0.39<td>0.22<td>0.14<td>0.06<td>1.00<td>0.07<td>0.15<td>0.24<td>0.18<tr><th>KO<td>-0.09<td>0.85<td>0.79<td>-0.76<td>0.07<td>1.00<td>0.94<td>0.96<td>0.74<tr><th>MSFT<td>0.05<td>0.94<td>0.86<td>-0.86<td>0.15<td>0.94<td>1.00<td>0.93<td>0.83<tr><th>PEP<td>-0.04<td>0.85<td>0.78<td>-0.69<td>0.24<td>0.96<td>0.93<td>1.00<td>0.75<tr><th>UAL<td>0.12<td>0.82<td>0.86<td>-0.76<td>0.18<td>0.74<td>0.83<td>0.75<td>1.00</table>"
      ],
      "text/plain": [
       "<IPython.core.display.HTML object>"
      ]
     },
     "metadata": {},
     "output_type": "display_data"
    }
   ],
   "source": [
    "correlated = pp.corr(closing)"
   ]
  },
  {
   "cell_type": "code",
   "execution_count": 54,
   "metadata": {
    "colab": {
     "base_uri": "https://localhost:8080/",
     "height": 52
    },
    "id": "52lLDj42L8Wc",
    "outputId": "f7eaf6d9-0b35-4d05-b5ce-b6f658582e1f"
   },
   "outputs": [
    {
     "data": {
      "text/plain": [
       "array([        nan, -0.01585991, -0.02180223, ...,  0.0026649 ,\n",
       "       -0.0183533 ,  0.0092187 ])"
      ]
     },
     "execution_count": 54,
     "metadata": {},
     "output_type": "execute_result"
    }
   ],
   "source": [
    "pp.returns(closing,\"IBM\",type=\"log\")"
   ]
  },
  {
   "cell_type": "code",
   "execution_count": 55,
   "metadata": {
    "colab": {
     "base_uri": "https://localhost:8080/",
     "height": 52
    },
    "id": "EGOW089PMVuE",
    "outputId": "7f390544-1314-4ceb-951a-feda1ec506ac"
   },
   "outputs": [
    {
     "data": {
      "text/plain": [
       "array([        nan, -0.0157348 , -0.02156628, ...,  0.00266845,\n",
       "       -0.0181859 ,  0.00926132])"
      ]
     },
     "execution_count": 55,
     "metadata": {},
     "output_type": "execute_result"
    }
   ],
   "source": [
    "loga = pp.returns(closing,\"IBM\",type=\"normal\"); loga"
   ]
  },
  {
   "cell_type": "code",
   "execution_count": 56,
   "metadata": {
    "colab": {
     "base_uri": "https://localhost:8080/",
     "height": 121
    },
    "id": "b9PaJWEdMof0",
    "outputId": "1866f3d5-afa9-40c8-add1-b858127a785d"
   },
   "outputs": [
    {
     "data": {
      "text/plain": [
       "array([(37.24206924, 100.45429993, 44.57522202, 20.72605705, 130.59109497, 35.80251312, 41.9791832 , 81.51140594, 66.33999634,         nan),\n",
       "       (35.08446503,  97.62433624, 43.83200836, 20.34561157, 128.53627014, 35.80251312, 41.59314346, 80.89860535, 66.15000153, -0.0157348 ),\n",
       "       (35.34244537,  97.63354492, 42.79874039, 19.90727234, 125.76422119, 36.07437897, 40.98268127, 80.28580475, 64.58000183, -0.02156628),\n",
       "       (36.25707626,  99.00255585, 42.57216263, 19.91554451, 124.94229126, 36.52467346, 41.50337982, 82.63342285, 65.52999878, -0.00653548),\n",
       "       (37.28897095, 102.80648041, 43.67792892, 20.15538216, 127.65791321, 36.966465  , 42.72432327, 84.13523865, 66.63999939,  0.02173501)],\n",
       "      dtype=[('AA', '<f8'), ('AAPL', '<f8'), ('DAL', '<f8'), ('GE', '<f8'), ('IBM', '<f8'), ('KO', '<f8'), ('MSFT', '<f8'), ('PEP', '<f8'), ('UAL', '<f8'), ('IBM_log_return', '<f8')])"
      ]
     },
     "execution_count": 56,
     "metadata": {},
     "output_type": "execute_result"
    }
   ],
   "source": [
    "close_ret = pp.add(closing,\"IBM_log_return\",loga); close_ret[:5]"
   ]
  },
  {
   "cell_type": "code",
   "execution_count": 57,
   "metadata": {
    "colab": {
     "base_uri": "https://localhost:8080/",
     "height": 121
    },
    "id": "q2eod7FlQBzs",
    "outputId": "9e7ede3f-37f3-4515-8da1-9418c593fc93"
   },
   "outputs": [
    {
     "data": {
      "text/plain": [
       "array([(37.24206924, 100.45429993, 44.57522202, 20.72605705, 130.59109497, 35.80251312, 41.9791832 , 81.51140594, 66.33999634,         nan),\n",
       "       (35.08446503,  97.62433624, 43.83200836, 20.34561157, 128.53627014, 35.80251312, 41.59314346, 80.89860535, 66.15000153, -0.0157348 ),\n",
       "       (35.34244537,  97.63354492, 42.79874039, 19.90727234, 125.76422119, 36.07437897, 40.98268127, 80.28580475, 64.58000183, -0.02156628),\n",
       "       (36.25707626,  99.00255585, 42.57216263, 19.91554451, 124.94229126, 36.52467346, 41.50337982, 82.63342285, 65.52999878, -0.00653548),\n",
       "       (37.28897095, 102.80648041, 43.67792892, 20.15538216, 127.65791321, 36.966465  , 42.72432327, 84.13523865, 66.63999939,  0.02173501)],\n",
       "      dtype=[('AA', '<f8'), ('AAPL', '<f8'), ('DAL', '<f8'), ('GE', '<f8'), ('IBM', '<f8'), ('KO', '<f8'), ('MSFT', '<f8'), ('PEP', '<f8'), ('UAL', '<f8'), ('IBM_log_return', '<f8')])"
      ]
     },
     "execution_count": 57,
     "metadata": {},
     "output_type": "execute_result"
    }
   ],
   "source": [
    "close_ret_na = pp.dropnarow(close_ret, \"IBM_log_return\"); close_ret[:5]"
   ]
  },
  {
   "cell_type": "code",
   "execution_count": 58,
   "metadata": {
    "colab": {
     "base_uri": "https://localhost:8080/",
     "height": 52
    },
    "id": "H1OuXfwpPp1R",
    "outputId": "955c2c2b-394f-4d47-ab87-46b9cfd85750"
   },
   "outputs": [
    {
     "data": {
      "text/plain": [
       "array([0.98438834, 0.96338604, 0.95711037, ..., 1.15115429, 1.13040872,\n",
       "       1.14092643])"
      ]
     },
     "execution_count": 58,
     "metadata": {},
     "output_type": "execute_result"
    }
   ],
   "source": [
    "pp.portfolio_value(close_ret_na, \"IBM_log_return\", type=\"log\")"
   ]
  },
  {
   "cell_type": "code",
   "execution_count": 59,
   "metadata": {
    "colab": {
     "base_uri": "https://localhost:8080/",
     "height": 52
    },
    "id": "IrZQ9zPEP7Yv",
    "outputId": "3c15ec53-152b-4d73-e4ec-edd876cba8cc"
   },
   "outputs": [
    {
     "data": {
      "text/plain": [
       "array([-0.01561166, -0.03661396, -0.04288963, ...,  0.15115429,\n",
       "        0.13040872,  0.14092643])"
      ]
     },
     "execution_count": 59,
     "metadata": {},
     "output_type": "execute_result"
    }
   ],
   "source": [
    "pp.cummulative_return(close_ret_na, \"IBM_log_return\", type=\"log\")"
   ]
  },
  {
   "cell_type": "code",
   "execution_count": 60,
   "metadata": {
    "colab": {
     "base_uri": "https://localhost:8080/",
     "height": 141
    },
    "id": "uX73kC22n2_H",
    "outputId": "f3bbe52b-2cca-4e8b-e4d4-3fcd49e4c31d"
   },
   "outputs": [
    {
     "data": {
      "text/plain": [
       "array([(315.13000488, 298.79998779, 306.1000061 , 310.11999512, 11658600, 310.11999512, 272.95330665, 272.38631982, 271.75180703, 271.10991915, 270.48587024),\n",
       "       (309.3999939 , 297.38000488, 307.        , 300.35998535,  6965200, 300.35998535, 310.11999512, 272.38631982, 271.75180703, 271.10991915, 270.48587024),\n",
       "       (318.        , 302.73001099, 306.        , 317.69000244,  7394100, 317.69000244, 300.35998535, 310.11999512, 271.75180703, 271.10991915, 270.48587024),\n",
       "       (336.73999023, 317.75      , 321.72000122, 334.95999146,  7551200, 334.95999146, 317.69000244, 300.35998535, 310.11999512, 271.10991915, 270.48587024),\n",
       "       (344.01000977, 327.01998901, 341.95999146, 335.3500061 ,  7008500, 335.3500061 , 334.95999146, 317.69000244, 300.35998535, 310.11999512, 270.48587024)],\n",
       "      dtype={'names':['High','Low','Open','Close','Volume','Adj_Close','Adj_Close_lag_1','Adj_Close_lag_2','Adj_Close_lag_3','Adj_Close_lag_4','Adj_Close_lag_5'], 'formats':['<f8','<f8','<f8','<f8','<i4','<f8','<f8','<f8','<f8','<f8','<f8'], 'offsets':[0,8,16,24,32,36,108,116,124,132,140], 'itemsize':148})"
      ]
     },
     "execution_count": 60,
     "metadata": {},
     "output_type": "execute_result"
    }
   ],
   "source": [
    "pp.fillna(tsla_lagged,type=\"mean\")[:5]"
   ]
  },
  {
   "cell_type": "code",
   "execution_count": 61,
   "metadata": {
    "colab": {
     "base_uri": "https://localhost:8080/",
     "height": 141
    },
    "id": "ymjH4qcoZMxo",
    "outputId": "8881275a-1aa4-4379-f7a3-ecb75893ffab"
   },
   "outputs": [
    {
     "data": {
      "text/plain": [
       "array([(315.13000488, 298.79998779, 306.1000061 , 310.11999512, 11658600, 310.11999512, -9.99999000e+05, -9.99999000e+05, -9.99999000e+05, -9.99999000e+05, -999999.),\n",
       "       (309.3999939 , 297.38000488, 307.        , 300.35998535,  6965200, 300.35998535,  3.10119995e+02, -9.99999000e+05, -9.99999000e+05, -9.99999000e+05, -999999.),\n",
       "       (318.        , 302.73001099, 306.        , 317.69000244,  7394100, 317.69000244,  3.00359985e+02,  3.10119995e+02, -9.99999000e+05, -9.99999000e+05, -999999.),\n",
       "       (336.73999023, 317.75      , 321.72000122, 334.95999146,  7551200, 334.95999146,  3.17690002e+02,  3.00359985e+02,  3.10119995e+02, -9.99999000e+05, -999999.),\n",
       "       (344.01000977, 327.01998901, 341.95999146, 335.3500061 ,  7008500, 335.3500061 ,  3.34959991e+02,  3.17690002e+02,  3.00359985e+02,  3.10119995e+02, -999999.)],\n",
       "      dtype={'names':['High','Low','Open','Close','Volume','Adj_Close','Adj_Close_lag_1','Adj_Close_lag_2','Adj_Close_lag_3','Adj_Close_lag_4','Adj_Close_lag_5'], 'formats':['<f8','<f8','<f8','<f8','<i4','<f8','<f8','<f8','<f8','<f8','<f8'], 'offsets':[0,8,16,24,32,36,108,116,124,132,140], 'itemsize':148})"
      ]
     },
     "execution_count": 61,
     "metadata": {},
     "output_type": "execute_result"
    }
   ],
   "source": [
    "pp.fillna(tsla_lagged,type=\"value\",value=-999999)[:5]"
   ]
  },
  {
   "cell_type": "code",
   "execution_count": 62,
   "metadata": {
    "colab": {
     "base_uri": "https://localhost:8080/",
     "height": 141
    },
    "id": "iqaxWMm8uX0G",
    "outputId": "2aabbf17-b3e0-48fa-bf22-fc4d4bc8a53b"
   },
   "outputs": [
    {
     "data": {
      "text/plain": [
       "array([(315.13000488, 298.79998779, 306.1000061 , 310.11999512, 11658600, 310.11999512,          nan,          nan,          nan,          nan, nan),\n",
       "       (309.3999939 , 297.38000488, 307.        , 300.35998535,  6965200, 300.35998535, 310.11999512,          nan,          nan,          nan, nan),\n",
       "       (318.        , 302.73001099, 306.        , 317.69000244,  7394100, 317.69000244, 300.35998535, 310.11999512,          nan,          nan, nan),\n",
       "       (336.73999023, 317.75      , 321.72000122, 334.95999146,  7551200, 334.95999146, 317.69000244, 300.35998535, 310.11999512,          nan, nan),\n",
       "       (344.01000977, 327.01998901, 341.95999146, 335.3500061 ,  7008500, 335.3500061 , 334.95999146, 317.69000244, 300.35998535, 310.11999512, nan)],\n",
       "      dtype={'names':['High','Low','Open','Close','Volume','Adj_Close','Adj_Close_lag_1','Adj_Close_lag_2','Adj_Close_lag_3','Adj_Close_lag_4','Adj_Close_lag_5'], 'formats':['<f8','<f8','<f8','<f8','<i4','<f8','<f8','<f8','<f8','<f8','<f8'], 'offsets':[0,8,16,24,32,36,108,116,124,132,140], 'itemsize':148})"
      ]
     },
     "execution_count": 62,
     "metadata": {},
     "output_type": "execute_result"
    }
   ],
   "source": [
    "pp.fillna(tsla_lagged,type=\"ffill\")[:5]"
   ]
  },
  {
   "cell_type": "code",
   "execution_count": 63,
   "metadata": {
    "colab": {
     "base_uri": "https://localhost:8080/",
     "height": 141
    },
    "id": "E4VhVmpEvKl9",
    "outputId": "82fa0480-6541-4497-e3f7-8378e0a9a513"
   },
   "outputs": [
    {
     "data": {
      "text/plain": [
       "array([(315.13000488, 298.79998779, 306.1000061 , 310.11999512, 11658600, 310.11999512, 310.11999512, 310.11999512, 310.11999512, 310.11999512, 310.11999512),\n",
       "       (309.3999939 , 297.38000488, 307.        , 300.35998535,  6965200, 300.35998535, 310.11999512, 310.11999512, 310.11999512, 310.11999512, 310.11999512),\n",
       "       (318.        , 302.73001099, 306.        , 317.69000244,  7394100, 317.69000244, 300.35998535, 310.11999512, 310.11999512, 310.11999512, 310.11999512),\n",
       "       (336.73999023, 317.75      , 321.72000122, 334.95999146,  7551200, 334.95999146, 317.69000244, 300.35998535, 310.11999512, 310.11999512, 310.11999512),\n",
       "       (344.01000977, 327.01998901, 341.95999146, 335.3500061 ,  7008500, 335.3500061 , 334.95999146, 317.69000244, 300.35998535, 310.11999512, 310.11999512)],\n",
       "      dtype={'names':['High','Low','Open','Close','Volume','Adj_Close','Adj_Close_lag_1','Adj_Close_lag_2','Adj_Close_lag_3','Adj_Close_lag_4','Adj_Close_lag_5'], 'formats':['<f8','<f8','<f8','<f8','<i4','<f8','<f8','<f8','<f8','<f8','<f8'], 'offsets':[0,8,16,24,32,36,108,116,124,132,140], 'itemsize':148})"
      ]
     },
     "execution_count": 63,
     "metadata": {},
     "output_type": "execute_result"
    }
   ],
   "source": [
    "pp.fillna(tsla_lagged,type=\"bfill\")[:5]"
   ]
  },
  {
   "cell_type": "code",
   "execution_count": 64,
   "metadata": {
    "colab": {
     "base_uri": "https://localhost:8080/",
     "height": 141
    },
    "id": "bOidZ83NkcDi",
    "outputId": "5f360b17-3451-4a7b-db35-eeebbb2913fc"
   },
   "outputs": [
    {
     "data": {
      "text/plain": [
       "array([(315.13000488, 298.79998779, 306.1000061 , 310.11999512, 11658600, 310.11999512,          nan,          nan,          nan,          nan, nan),\n",
       "       (309.3999939 , 297.38000488, 307.        , 300.35998535,  6965200, 300.35998535, 310.11999512,          nan,          nan,          nan, nan),\n",
       "       (318.        , 302.73001099, 306.        , 317.69000244,  7394100, 317.69000244, 300.35998535, 310.11999512,          nan,          nan, nan),\n",
       "       (336.73999023, 317.75      , 321.72000122, 334.95999146,  7551200, 334.95999146, 317.69000244, 300.35998535, 310.11999512,          nan, nan),\n",
       "       (344.01000977, 327.01998901, 341.95999146, 335.3500061 ,  7008500, 335.3500061 , 334.95999146, 317.69000244, 300.35998535, 310.11999512, nan)],\n",
       "      dtype={'names':['High','Low','Open','Close','Volume','Adj_Close','Adj_Close_lag_1','Adj_Close_lag_2','Adj_Close_lag_3','Adj_Close_lag_4','Adj_Close_lag_5'], 'formats':['<f8','<f8','<f8','<f8','<i4','<f8','<f8','<f8','<f8','<f8','<f8'], 'offsets':[0,8,16,24,32,36,108,116,124,132,140], 'itemsize':148})"
      ]
     },
     "execution_count": 64,
     "metadata": {},
     "output_type": "execute_result"
    }
   ],
   "source": [
    "pp.fillna(tsla_lagged,type=\"ffill\")[:5]"
   ]
  },
  {
   "cell_type": "code",
   "execution_count": 65,
   "metadata": {
    "colab": {
     "base_uri": "https://localhost:8080/",
     "height": 147
    },
    "id": "4pbEaX6dzOLk",
    "outputId": "1a059701-39d0-4496-8b34-6f74108f78aa"
   },
   "outputs": [
    {
     "data": {
      "text/html": [
       "<table><tr><th><th>High<th>Low<th>Open<th>Close<th>Volume<th>Adj_Close<th>Date<th>Ticker<th>Month<th>Year<th>Adj_Close_lag_1<th>Adj_Close_lag_2<th>Adj_Close_lag_3<th>Adj_Close_lag_4<th>Adj_Close_lag_5<tr><th>0<td>315.130<td>298.800<td>306.100<td>310.120<td>11658600<td>310.120<td>2019-01-02<td>TSLA<td>2019-01-01<td>2019-01-01<td>nan<td>nan<td>nan<td>nan<td>nan<tr><th>1<td>309.400<td>297.380<td>307.000<td>300.360<td>6965200<td>300.360<td>2019-01-03<td>TSLA<td>2019-01-01<td>2019-01-01<td>310.120<td>nan<td>nan<td>nan<td>nan<tr><th>2<td>318.000<td>302.730<td>306.000<td>317.690<td>7394100<td>317.690<td>2019-01-04<td>TSLA<td>2019-01-01<td>2019-01-01<td>300.360<td>310.120<td>nan<td>nan<td>nan<tr><th>3<td>336.740<td>317.750<td>321.720<td>334.960<td>7551200<td>334.960<td>2019-01-07<td>TSLA<td>2019-01-01<td>2019-01-01<td>317.690<td>300.360<td>310.120<td>nan<td>nan<tr><th>4<td>344.010<td>327.020<td>341.960<td>335.350<td>7008500<td>335.350<td>2019-01-08<td>TSLA<td>2019-01-01<td>2019-01-01<td>334.960<td>317.690<td>300.360<td>310.120<td>nan</table>"
      ],
      "text/plain": [
       "<IPython.core.display.HTML object>"
      ]
     },
     "metadata": {},
     "output_type": "display_data"
    }
   ],
   "source": [
    "pp.table(tsla_lagged,5)"
   ]
  },
  {
   "cell_type": "code",
   "execution_count": 66,
   "metadata": {
    "id": "SFE1HvZfCbNP"
   },
   "outputs": [],
   "source": [
    "signal = tsla_lagged[\"Volume\"]\n",
    "z_signal = (signal - np.mean(signal)) / np.std(signal)"
   ]
  },
  {
   "cell_type": "code",
   "execution_count": 67,
   "metadata": {
    "id": "OEsipC9uzN4i"
   },
   "outputs": [],
   "source": [
    "tsla_lagged = pp.add(tsla_lagged,\"z_signal_volume\",z_signal)"
   ]
  },
  {
   "cell_type": "code",
   "execution_count": 68,
   "metadata": {
    "colab": {
     "base_uri": "https://localhost:8080/",
     "height": 34
    },
    "id": "l1Xv0vIyzNaM",
    "outputId": "3664ef9b-be52-47de-bd48-359954065dc6"
   },
   "outputs": [
    {
     "data": {
      "text/plain": [
       "[12, 40, 42, 64, 78, 79, 84, 95, 97, 98, 107, 141, 205, 206, 207]"
      ]
     },
     "execution_count": 68,
     "metadata": {},
     "output_type": "execute_result"
    }
   ],
   "source": [
    "outliers = pp.detect(tsla_lagged[\"z_signal_volume\"]); outliers"
   ]
  },
  {
   "cell_type": "code",
   "execution_count": 69,
   "metadata": {
    "colab": {
     "base_uri": "https://localhost:8080/",
     "height": 439
    },
    "id": "DqhFFJjKFEds",
    "outputId": "e4decf3a-6d09-422e-c14a-57feb47f231f"
   },
   "outputs": [
    {
     "data": {
      "image/png": "[encoded data removed]",
      "text/plain": [
       "<Figure size 1080x504 with 1 Axes>"
      ]
     },
     "metadata": {
      "needs_background": "light"
     },
     "output_type": "display_data"
    }
   ],
   "source": [
    "import matplotlib.pyplot as plt\n",
    "\n",
    "plt.figure(figsize=(15, 7))\n",
    "plt.plot(np.arange(len(tsla_lagged[\"Volume\"])), tsla_lagged[\"Volume\"])\n",
    "plt.plot(np.arange(len(tsla_lagged[\"Volume\"])), tsla_lagged[\"Volume\"], 'X', label='outliers',markevery=outliers, c='r')\n",
    "plt.legend()\n",
    "plt.show()"
   ]
  },
  {
   "cell_type": "code",
   "execution_count": 70,
   "metadata": {
    "id": "QOE2gL-dzNPC"
   },
   "outputs": [],
   "source": [
    "price_signal = tsla_lagged[\"Close\"]\n",
    "removed_signal = pp.removal(price_signal, 30)\n",
    "noise = pp.get(price_signal, removed_signal)"
   ]
  },
  {
   "cell_type": "code",
   "execution_count": 71,
   "metadata": {
    "colab": {
     "base_uri": "https://localhost:8080/",
     "height": 444
    },
    "id": "v50to-8oHm_l",
    "outputId": "c0ebab02-e109-4cd7-e385-87e42981b28f"
   },
   "outputs": [
    {
     "data": {
      "image/png": "[encoded data removed]",
      "text/plain": [
       "<Figure size 1080x504 with 2 Axes>"
      ]
     },
     "metadata": {
      "needs_background": "light"
     },
     "output_type": "display_data"
    }
   ],
   "source": [
    "plt.figure(figsize=(15, 7))\n",
    "plt.subplot(2, 1, 1)\n",
    "plt.plot(removed_signal)\n",
    "plt.title('timeseries without noise')\n",
    "plt.subplot(2, 1, 2)\n",
    "plt.plot(noise)\n",
    "plt.title('noise timeseries')\n",
    "plt.show()"
   ]
  },
  {
   "cell_type": "code",
   "execution_count": null,
   "metadata": {},
   "outputs": [],
   "source": []
  },
  {
   "cell_type": "code",
   "execution_count": null,
   "metadata": {},
   "outputs": [],
   "source": []
  },
  {
   "cell_type": "code",
   "execution_count": null,
   "metadata": {},
   "outputs": [],
   "source": []
  },
  {
   "cell_type": "code",
   "execution_count": null,
   "metadata": {},
   "outputs": [],
   "source": []
  },
  {
   "cell_type": "code",
   "execution_count": null,
   "metadata": {},
   "outputs": [],
   "source": []
  },
  {
   "cell_type": "code",
   "execution_count": null,
   "metadata": {},
   "outputs": [],
   "source": []
  },
  {
   "cell_type": "code",
   "execution_count": null,
   "metadata": {},
   "outputs": [],
   "source": []
  },
  {
   "cell_type": "code",
   "execution_count": null,
   "metadata": {},
   "outputs": [],
   "source": []
  },
  {
   "cell_type": "code",
   "execution_count": null,
   "metadata": {},
   "outputs": [],
   "source": []
  },
  {
   "cell_type": "code",
   "execution_count": null,
   "metadata": {},
   "outputs": [],
   "source": []
  },
  {
   "cell_type": "code",
   "execution_count": null,
   "metadata": {},
   "outputs": [],
   "source": []
  },
  {
   "cell_type": "code",
   "execution_count": null,
   "metadata": {},
   "outputs": [],
   "source": []
  },
  {
   "cell_type": "code",
   "execution_count": null,
   "metadata": {},
   "outputs": [],
   "source": []
  },
  {
   "cell_type": "code",
   "execution_count": null,
   "metadata": {},
   "outputs": [],
   "source": []
  },
  {
   "cell_type": "code",
   "execution_count": null,
   "metadata": {},
   "outputs": [],
   "source": []
  },
  {
   "cell_type": "code",
   "execution_count": null,
   "metadata": {},
   "outputs": [],
   "source": []
  },
  {
   "cell_type": "code",
   "execution_count": null,
   "metadata": {},
   "outputs": [],
   "source": []
  },
  {
   "cell_type": "code",
   "execution_count": null,
   "metadata": {},
   "outputs": [],
   "source": []
  }
 ],
 "metadata": {
  "colab": {
   "collapsed_sections": [],
   "name": "PandaPy.ipynb",
   "provenance": []
  },
  "kernelspec": {
   "display_name": "Python 3",
   "language": "python",
   "name": "python3"
  },
  "language_info": {
   "codemirror_mode": {
    "name": "ipython",
    "version": 3
   },
   "file_extension": ".py",
   "mimetype": "text/x-python",
   "name": "python",
   "nbconvert_exporter": "python",
   "pygments_lexer": "ipython3",
   "version": "3.8.3"
  }
 },
 "nbformat": 4,
 "nbformat_minor": 1
}
